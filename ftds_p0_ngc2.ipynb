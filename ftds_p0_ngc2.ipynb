{
 "cells": [
  {
   "cell_type": "markdown",
   "metadata": {},
   "source": [
    "task 1"
   ]
  },
  {
   "cell_type": "code",
   "execution_count": 4,
   "metadata": {},
   "outputs": [
    {
     "name": "stdout",
     "output_type": "stream",
     "text": [
      "2\n",
      "8\n"
     ]
    }
   ],
   "source": [
    "def number_of_word(sentence):\n",
    "    return len(sentence.split(\" \"))\n",
    "\n",
    "print(number_of_word(sentence = \"Hello world!\"))\n",
    "print(number_of_word(sentence = 'Once Upon a Time in a faraway land'))"
   ]
  },
  {
   "cell_type": "markdown",
   "metadata": {},
   "source": [
    "task 2"
   ]
  },
  {
   "cell_type": "code",
   "execution_count": 15,
   "metadata": {},
   "outputs": [
    {
     "name": "stdout",
     "output_type": "stream",
     "text": [
      "[5, 10, 15, 20]\n",
      "[10, 20, 30, 40, 50]\n"
     ]
    }
   ],
   "source": [
    "def find_multiples(start_range, end_range, multiple):\n",
    "    result = []    \n",
    "\n",
    "    for i in range(start_range, end_range + 1):\n",
    "        if i % multiple == 0:\n",
    "            result.append(i)\n",
    "    return result\n",
    "\n",
    "print(find_multiples(start_range= 1, end_range= 20, multiple= 5))\n",
    "print(find_multiples(start_range= 1, end_range= 50, multiple= 10))"
   ]
  },
  {
   "cell_type": "markdown",
   "metadata": {},
   "source": [
    "task 3"
   ]
  },
  {
   "cell_type": "code",
   "execution_count": 14,
   "metadata": {},
   "outputs": [
    {
     "name": "stdout",
     "output_type": "stream",
     "text": [
      "{'andi': 'D', 'budi': 'B'}\n",
      "{'susi': 3.5, 'tono': 3, 'rudi': 1}\n"
     ]
    }
   ],
   "source": [
    "def grade_converter(convert_to, **grades):\n",
    "    for k in grades.keys():\n",
    "        if convert_to == \"letter_grade\":\n",
    "            if grades[k] < 0:\n",
    "                pass # exception\n",
    "            elif grades[k] < 40:\n",
    "                grades[k] = \"F\"\n",
    "            elif grades[k] < 50:\n",
    "                grades[k] = \"E\"\n",
    "            elif grades[k] < 60:\n",
    "                grades[k] = \"D\"\n",
    "            elif grades[k] < 70:\n",
    "                grades[k] = \"C\"\n",
    "            elif grades[k] < 85:\n",
    "                grades[k] = \"B\"\n",
    "            elif grades[k] <= 100:\n",
    "                grades[k] = \"A\"\n",
    "            else:\n",
    "                pass # exception\n",
    "        elif convert_to == \"gpa\":\n",
    "            if grades[k] < 0:\n",
    "                pass # exception\n",
    "            elif grades[k] < 40:\n",
    "                grades[k] = 1\n",
    "            elif grades[k] < 50:\n",
    "                grades[k] = 1.5\n",
    "            elif grades[k] < 60:\n",
    "                grades[k] = 2.5\n",
    "            elif grades[k] < 70:\n",
    "                grades[k] = 3\n",
    "            elif grades[k] < 85:\n",
    "                grades[k] = 3.5\n",
    "            elif grades[k] <= 100:\n",
    "                grades[k] = 4\n",
    "            else:\n",
    "                pass # exception\n",
    "    return grades\n",
    "\n",
    "print(grade_converter(\"letter_grade\", andi = 50, budi = 75))\n",
    "print(grade_converter(\"gpa\", susi = 80, tono = 60, rudi = 20))"
   ]
  },
  {
   "cell_type": "markdown",
   "metadata": {},
   "source": [
    "4."
   ]
  },
  {
   "cell_type": "code",
   "execution_count": 10,
   "metadata": {},
   "outputs": [],
   "source": [
    "def get_fibonacci(number):\n",
    "    temp_container = []\n",
    "    fib_sum = 0\n",
    "\n",
    "    for i in range(number + 1):\n",
    "        if i == 0:\n",
    "            temp_container.append(0)\n",
    "        elif i == 1:\n",
    "            temp_container.append(1)\n",
    "        else:\n",
    "            fib_sum = temp_container.pop(0) + temp_container[0]\n",
    "            temp_container.append(fib_sum)\n",
    "    \n",
    "    return fib_sum\n"
   ]
  },
  {
   "cell_type": "code",
   "execution_count": 13,
   "metadata": {},
   "outputs": [
    {
     "data": {
      "text/plain": [
       "55"
      ]
     },
     "execution_count": 13,
     "metadata": {},
     "output_type": "execute_result"
    }
   ],
   "source": [
    "get_fibonacci(10)"
   ]
  }
 ],
 "metadata": {
  "kernelspec": {
   "display_name": "hck016",
   "language": "python",
   "name": "python3"
  },
  "language_info": {
   "codemirror_mode": {
    "name": "ipython",
    "version": 3
   },
   "file_extension": ".py",
   "mimetype": "text/x-python",
   "name": "python",
   "nbconvert_exporter": "python",
   "pygments_lexer": "ipython3",
   "version": "3.9.19"
  }
 },
 "nbformat": 4,
 "nbformat_minor": 2
}
