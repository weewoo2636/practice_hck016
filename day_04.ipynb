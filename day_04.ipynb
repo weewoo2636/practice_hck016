{
 "cells": [
  {
   "cell_type": "markdown",
   "metadata": {},
   "source": [
    "# Object Oriented Programming"
   ]
  },
  {
   "cell_type": "code",
   "execution_count": 4,
   "metadata": {},
   "outputs": [
    {
     "name": "stdout",
     "output_type": "stream",
     "text": [
      "<__main__.Book object at 0x000001A3513266D0>\n",
      "A5\n",
      "buku udah dibuka!\n"
     ]
    }
   ],
   "source": [
    "# static class\n",
    "\n",
    "class Book():\n",
    "\n",
    "    # attributes definition / constructor\n",
    "    def __init__(self):\n",
    "        self.title = \"Harry Potter\"\n",
    "        self.author = \"J.K. Rowling\"\n",
    "        self.book_color = \"hijau\"\n",
    "        self.pages = 500\n",
    "        self.size = \"A5\"\n",
    "\n",
    "    # behaviour definition (the self are a common first parameter, *theres a need for atleast argument)\n",
    "    def open_book(self):\n",
    "        print(\"buku udah dibuka!\")\n",
    "\n",
    "# panggil class -> objek\n",
    "book = Book()\n",
    "\n",
    "print(book)\n",
    "\n",
    "# memanggil isi attribute dari book\n",
    "print(book.size)\n",
    "\n",
    "# memanggil behaviour dari book\n",
    "book.open_book()"
   ]
  },
  {
   "cell_type": "code",
   "execution_count": 7,
   "metadata": {},
   "outputs": [
    {
     "name": "stdout",
     "output_type": "stream",
     "text": [
      "openedHarry Potter by J.K. Rowling\n",
      "reading Harry Potter by J.K. Rowling\n",
      "borrowed Harry Potter by J.K. Rowling\n"
     ]
    }
   ],
   "source": [
    "# dynamic class\n",
    "\n",
    "class Book():\n",
    "    \n",
    "    # attributes definition\n",
    "    def __init__(self, title, author, book_color, pages, size):\n",
    "        self.title = title\n",
    "        self.author = author\n",
    "        self.book_color = book_color\n",
    "        self.pages = pages\n",
    "        self.size = size\n",
    "    \n",
    "    # behaviours definition\n",
    "    def open_book(self):\n",
    "        print(f\"opened{self.title} by {self.author}\")\n",
    "    \n",
    "    def read_book(self):\n",
    "        print(f\"reading {self.title} by {self.author}\")\n",
    "    \n",
    "    def borrow_book(self):\n",
    "        print(f\"borrowed {self.title} by {self.author}\")\n",
    "\n",
    "book = Book(\"Harry Potter\", \"J.K. Rowling\", \"Green\", 500, \"A5\")\n",
    "\n",
    "book.open_book()\n",
    "book.read_book()\n",
    "book.borrow_book()"
   ]
  },
  {
   "cell_type": "markdown",
   "metadata": {},
   "source": [
    "## Getting to know python's append() function"
   ]
  },
  {
   "cell_type": "code",
   "execution_count": 8,
   "metadata": {},
   "outputs": [
    {
     "data": {
      "text/plain": [
       "['Harry Potter by J.K. Rowling', 'Naruto by Mashi Kishimoto']"
      ]
     },
     "execution_count": 8,
     "metadata": {},
     "output_type": "execute_result"
    }
   ],
   "source": [
    "# initializing an empty list\n",
    "books = []\n",
    "\n",
    "# creating some books \n",
    "book1 = \"Harry Potter by J.K. Rowling\"\n",
    "book2 = \"Naruto by Mashi Kishimoto\"\n",
    "\n",
    "# adding books above into our empty list with append()\n",
    "books.append(book1)\n",
    "books.append(book2)\n",
    "\n",
    "# looking at our books list\n",
    "books"
   ]
  }
 ],
 "metadata": {
  "kernelspec": {
   "display_name": "hck016",
   "language": "python",
   "name": "python3"
  },
  "language_info": {
   "codemirror_mode": {
    "name": "ipython",
    "version": 3
   },
   "file_extension": ".py",
   "mimetype": "text/x-python",
   "name": "python",
   "nbconvert_exporter": "python",
   "pygments_lexer": "ipython3",
   "version": "3.9.19"
  }
 },
 "nbformat": 4,
 "nbformat_minor": 2
}
