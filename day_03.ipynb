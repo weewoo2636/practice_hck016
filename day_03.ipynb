{
 "cells": [
  {
   "cell_type": "markdown",
   "metadata": {},
   "source": [
    "If"
   ]
  },
  {
   "cell_type": "code",
   "execution_count": null,
   "metadata": {},
   "outputs": [],
   "source": [
    "suhu = int(input(\"input suhu: \"))\n",
    "\n",
    "# kondisi untuk mengecek kategori suhu\n",
    "if suhu > 30:\n",
    "    print(\"panas brok\")"
   ]
  },
  {
   "cell_type": "markdown",
   "metadata": {},
   "source": [
    "Group Statement"
   ]
  },
  {
   "cell_type": "code",
   "execution_count": 7,
   "metadata": {},
   "outputs": [
    {
     "name": "stdout",
     "output_type": "stream",
     "text": [
      "third line\n"
     ]
    }
   ],
   "source": [
    "condition_1 = True\n",
    "condition_2 = False\n",
    "\n",
    "if condition_1 and condition_2:\n",
    "    print(\"first line\")\n",
    "    print(\"second line\")\n",
    "print(\"third line\")"
   ]
  },
  {
   "cell_type": "markdown",
   "metadata": {},
   "source": [
    "If & Elif clause"
   ]
  },
  {
   "cell_type": "code",
   "execution_count": 14,
   "metadata": {},
   "outputs": [
    {
     "name": "stdout",
     "output_type": "stream",
     "text": [
      "panas\n"
     ]
    }
   ],
   "source": [
    "suhu = int(input(\"input suhu: \"))\n",
    "\n",
    "if suhu < 20:\n",
    "    print(\"dingin\")\n",
    "elif 20 <= suhu <= 30:\n",
    "    print(\"sedang\")\n",
    "else:\n",
    "    print(\"panas\")"
   ]
  },
  {
   "cell_type": "markdown",
   "metadata": {},
   "source": [
    "Pass statement"
   ]
  },
  {
   "cell_type": "code",
   "execution_count": 17,
   "metadata": {},
   "outputs": [
    {
     "name": "stdout",
     "output_type": "stream",
     "text": [
      "boom\n"
     ]
    }
   ],
   "source": [
    "condition = False\n",
    "\n",
    "if condition:\n",
    "    pass\n",
    "\n",
    "print(\"boom\")"
   ]
  },
  {
   "cell_type": "markdown",
   "metadata": {},
   "source": [
    "# Nested if & Ternary Operator\n",
    "## Nested if"
   ]
  },
  {
   "cell_type": "code",
   "execution_count": 22,
   "metadata": {},
   "outputs": [],
   "source": [
    "condition_1 = True\n",
    "condition_2 = True\n",
    "\n",
    "if condition_1:\n",
    "    pass\n",
    "    if condition_2:\n",
    "        pass"
   ]
  },
  {
   "cell_type": "markdown",
   "metadata": {},
   "source": [
    "## Ternary Operator"
   ]
  },
  {
   "cell_type": "code",
   "execution_count": 21,
   "metadata": {},
   "outputs": [
    {
     "name": "stdout",
     "output_type": "stream",
     "text": [
      "tidak panas\n"
     ]
    }
   ],
   "source": [
    "suhu = int(input(\"input suhu: \"))\n",
    "pesan = \"panas\" if suhu > 30 else \"tidak panas\"\n",
    "print(pesan)"
   ]
  },
  {
   "cell_type": "markdown",
   "metadata": {},
   "source": [
    "# While Loops\n",
    "akan terus berulang selama kondisi bernilai True"
   ]
  },
  {
   "cell_type": "code",
   "execution_count": 24,
   "metadata": {},
   "outputs": [],
   "source": [
    "i = int(input(\"input i: \"))\n",
    "\n",
    "while i <= 10: # would loop endlessly til this condition returns False\n",
    "    print(i)\n",
    "    i += 1"
   ]
  },
  {
   "cell_type": "markdown",
   "metadata": {},
   "source": [
    "# Break & Continue Statement"
   ]
  },
  {
   "cell_type": "code",
   "execution_count": 31,
   "metadata": {},
   "outputs": [
    {
     "name": "stdout",
     "output_type": "stream",
     "text": [
      "10\n",
      "9\n",
      "8\n",
      "7\n",
      "6\n"
     ]
    }
   ],
   "source": [
    "i = 10\n",
    "\n",
    "while i > 0:\n",
    "    if i == 5:\n",
    "        break # replacing this with continue would resulted in infinite loop, since we never reached the decrement of i\n",
    "    print(i)\n",
    "    i -= 1"
   ]
  },
  {
   "cell_type": "code",
   "execution_count": 30,
   "metadata": {},
   "outputs": [
    {
     "name": "stdout",
     "output_type": "stream",
     "text": [
      "9\n",
      "8\n",
      "7\n",
      "6\n",
      "4\n",
      "3\n",
      "2\n",
      "1\n",
      "0\n"
     ]
    }
   ],
   "source": [
    "i = 10\n",
    "\n",
    "while i > 0:\n",
    "    i -= 1\n",
    "    if i == 5:\n",
    "        continue\n",
    "    print(i)"
   ]
  },
  {
   "cell_type": "markdown",
   "metadata": {},
   "source": [
    "## While Else clause"
   ]
  },
  {
   "cell_type": "code",
   "execution_count": 33,
   "metadata": {},
   "outputs": [
    {
     "name": "stdout",
     "output_type": "stream",
     "text": [
      "10\n",
      "9\n",
      "8\n",
      "7\n",
      "6\n",
      "5\n",
      "4\n",
      "3\n",
      "2\n",
      "1\n",
      "hitung mundur selesai\n"
     ]
    }
   ],
   "source": [
    "i = 10\n",
    "\n",
    "while i > 0:\n",
    "    print(i)\n",
    "    i -= 1\n",
    "else:\n",
    "    print(\"hitung mundur selesai\")"
   ]
  },
  {
   "cell_type": "markdown",
   "metadata": {},
   "source": [
    "## Nested While"
   ]
  },
  {
   "cell_type": "code",
   "execution_count": 34,
   "metadata": {},
   "outputs": [
    {
     "name": "stdout",
     "output_type": "stream",
     "text": [
      "1 * 1 = 1\n",
      "1 * 2 = 2\n",
      "1 * 3 = 3\n",
      "1 * 4 = 4\n",
      "1 * 5 = 5\n",
      "2 * 1 = 2\n",
      "2 * 2 = 4\n",
      "2 * 3 = 6\n",
      "2 * 4 = 8\n",
      "2 * 5 = 10\n",
      "3 * 1 = 3\n",
      "3 * 2 = 6\n",
      "3 * 3 = 9\n",
      "3 * 4 = 12\n",
      "3 * 5 = 15\n"
     ]
    }
   ],
   "source": [
    "i = 1\n",
    "\n",
    "while i <= 3:\n",
    "    j = 1\n",
    "    while j <= 5:\n",
    "        print(f\"{i} * {j} = {i * j}\")\n",
    "        j += 1\n",
    "    i += 1"
   ]
  },
  {
   "cell_type": "markdown",
   "metadata": {},
   "source": [
    "## Basic Syntax For Loop\n",
    "yang bisa di iterate: list, tuple, set, dict, sequences (like what range() func returns)\n",
    "\n",
    "can also be altered with break and continue keyword with identical behaviour"
   ]
  },
  {
   "cell_type": "code",
   "execution_count": 36,
   "metadata": {},
   "outputs": [
    {
     "name": "stdout",
     "output_type": "stream",
     "text": [
      "1\n",
      "2\n",
      "3\n"
     ]
    }
   ],
   "source": [
    "angka = [1, 2, 3]\n",
    "\n",
    "for i in angka:\n",
    "    print(i)"
   ]
  },
  {
   "cell_type": "code",
   "execution_count": 37,
   "metadata": {},
   "outputs": [
    {
     "name": "stdout",
     "output_type": "stream",
     "text": [
      "1\n",
      "2\n",
      "3\n",
      "4\n",
      "5\n",
      "6\n",
      "7\n",
      "8\n",
      "9\n",
      "10\n"
     ]
    }
   ],
   "source": [
    "for i in range(1, 11): #argument ke 2 ekslusif\n",
    "    print(i)\n"
   ]
  },
  {
   "cell_type": "markdown",
   "metadata": {},
   "source": [
    "## Ternary Operator utk for"
   ]
  },
  {
   "cell_type": "code",
   "execution_count": 4,
   "metadata": {},
   "outputs": [
    {
     "name": "stdout",
     "output_type": "stream",
     "text": [
      "[50.0, 68.0, 86.0]\n"
     ]
    }
   ],
   "source": [
    "suhu_celcius = [10, 20, 30]\n",
    "\n",
    "suhu_fahrenheit = [(9/5) * suhu + 32 for suhu in suhu_celcius]\n",
    "print(suhu_fahrenheit)"
   ]
  },
  {
   "cell_type": "code",
   "execution_count": 5,
   "metadata": {},
   "outputs": [
    {
     "name": "stdout",
     "output_type": "stream",
     "text": [
      "[50.0, 68.0]\n"
     ]
    }
   ],
   "source": [
    "suhu_fahrenheit = [(9/5) * suhu + 32 for suhu in suhu_celcius if suhu < 30 ]\n",
    "print(suhu_fahrenheit)"
   ]
  },
  {
   "cell_type": "code",
   "execution_count": 3,
   "metadata": {},
   "outputs": [
    {
     "name": "stdout",
     "output_type": "stream",
     "text": [
      "a\n",
      "[50.0, 68.0]\n"
     ]
    }
   ],
   "source": [
    "suhu_celcius = [10, 20, 30]\n",
    "suhu_fahrenheit = []\n",
    "\n",
    "for suhu in suhu_celcius:\n",
    "    suhu_fahrenheit.append((9/5) * suhu + 32) if suhu < 30 else print(\"a\")\n",
    "print(suhu_fahrenheit)"
   ]
  },
  {
   "cell_type": "markdown",
   "metadata": {},
   "source": [
    "## Enumerate (additional)"
   ]
  },
  {
   "cell_type": "code",
   "execution_count": 44,
   "metadata": {},
   "outputs": [
    {
     "name": "stdout",
     "output_type": "stream",
     "text": [
      "buah ke-1 adalah buah apel\n",
      "buah ke-2 adalah buah jeruk\n",
      "buah ke-3 adalah buah melon\n"
     ]
    }
   ],
   "source": [
    "daftar_belanja = [\"apel\", \"jeruk\", \"melon\"]\n",
    "\n",
    "for i, buah in enumerate(daftar_belanja):\n",
    "    print(f\"buah ke-{i+1} adalah buah {buah}\")"
   ]
  },
  {
   "cell_type": "code",
   "execution_count": 71,
   "metadata": {},
   "outputs": [
    {
     "name": "stdout",
     "output_type": "stream",
     "text": [
      "1\n",
      "22\n",
      "333\n",
      "4444\n",
      "55555\n",
      "666666\n",
      "7777777\n",
      "88888888\n",
      "999999999\n"
     ]
    }
   ],
   "source": [
    "for i in range(1, 10):\n",
    "    for j in range(1, i+1):\n",
    "        print(i, end='')\n",
    "    print(\"\")"
   ]
  },
  {
   "cell_type": "code",
   "execution_count": 42,
   "metadata": {},
   "outputs": [
    {
     "name": "stdout",
     "output_type": "stream",
     "text": [
      "password [abc123] tidak valid, dengan kesalahan ['missing upper case letter', 'missing symbols']\n"
     ]
    }
   ],
   "source": [
    "letters_upper = [chr(i) for i in range(65, 91)]\n",
    "letters_lower = [letters_upper[i].lower() for i in range(len(letters_upper))]\n",
    "numbers = [str(i) for i in range(0, 10)]\n",
    "symbols = [\"$\", \"#\", \"@\"]\n",
    "\n",
    "checks = [letters_upper, letters_lower, numbers, symbols]\n",
    "checks_name = [\"missing upper case letter\", \"missing lower case letter\", \"missing number\", \"missing symbols\"]\n",
    "\n",
    "# print(letters_upper)\n",
    "# print(letters_lower)\n",
    "# print(numbers)\n",
    "# print(symbols)\n",
    "\n",
    "password_validity_flag = True\n",
    "error_list = []\n",
    "\n",
    "password = input(\"input password: \")\n",
    "\n",
    "if 6 <= len(password) <= 16:\n",
    "    for h in range(0, len(checks)):\n",
    "        # print(h)\n",
    "        for i in checks[h]:\n",
    "            if password.find(i) != -1: # ketemu\n",
    "                # print(i, \"ketemu\")\n",
    "                break\n",
    "            elif checks[h].index(i) == len(checks[h]) - 1: # tidak ketemu dan sudah indeks terakhir\n",
    "                password_validity_flag = False\n",
    "                error_list.append(checks_name[h])\n",
    "                # print(i, \"mentok\")\n",
    "        # print(password_validity_flag, \" \", checks_name[h])\n",
    "\n",
    "    if password_validity_flag:\n",
    "        print(f\"password [{password}] valid\")\n",
    "    else:\n",
    "        print(f\"password [{password}] tidak valid, dengan kesalahan {error_list}\")\n",
    "else:\n",
    "    print (f\"password [{password}] length is invalid [6 - 16]\")"
   ]
  },
  {
   "cell_type": "markdown",
   "metadata": {},
   "source": [
    "# Function\n",
    "parameter: variable penampung input saat function dipanggil\n",
    "argumen: nilai input yang mengisi parameter saat function di panggil"
   ]
  },
  {
   "cell_type": "code",
   "execution_count": 1,
   "metadata": {},
   "outputs": [
    {
     "name": "stdout",
     "output_type": "stream",
     "text": [
      "300\n"
     ]
    }
   ],
   "source": [
    "def tambah(a, b):\n",
    "    print(a + b)\n",
    "\n",
    "tambah(100, 200)"
   ]
  },
  {
   "cell_type": "code",
   "execution_count": 2,
   "metadata": {},
   "outputs": [
    {
     "name": "stdout",
     "output_type": "stream",
     "text": [
      "300\n"
     ]
    }
   ],
   "source": [
    "def tambah(a, b):\n",
    "    return a + b\n",
    "\n",
    "print(tambah(100, 200))"
   ]
  },
  {
   "cell_type": "markdown",
   "metadata": {},
   "source": [
    "there are local(inside a function) and global variable(not in any function)"
   ]
  },
  {
   "cell_type": "code",
   "execution_count": 12,
   "metadata": {},
   "outputs": [
    {
     "name": "stdout",
     "output_type": "stream",
     "text": [
      "ano dua ani\n"
     ]
    }
   ],
   "source": [
    "#arg1 required, arg2 & arg3 default\n",
    "def test_function(arg1, arg2 = \"dua\", arg3 = \"tiga\"):\n",
    "    print(arg_1 + \" \" + arg2 + \" \" + arg3)\n",
    "\n",
    "test_function(\"ano\", arg3=\"ani\")"
   ]
  },
  {
   "cell_type": "code",
   "execution_count": 14,
   "metadata": {},
   "outputs": [
    {
     "name": "stdout",
     "output_type": "stream",
     "text": [
      "satu dua\n",
      "satu dua\n"
     ]
    }
   ],
   "source": [
    "def test_function(arg1, arg2):\n",
    "    print(f\"{arg1} {arg2}\")\n",
    "\n",
    "# positional\n",
    "test_function(\"satu\", \"dua\")\n",
    "\n",
    "# keyword\n",
    "test_function(arg2 = \"dua\", arg1 = \"satu\")"
   ]
  },
  {
   "cell_type": "code",
   "execution_count": 16,
   "metadata": {},
   "outputs": [
    {
     "name": "stdout",
     "output_type": "stream",
     "text": [
      "ano berbelanja,\n",
      "beli apel\n",
      "beli jeruk\n",
      "beli brokoli\n"
     ]
    }
   ],
   "source": [
    "# *args\n",
    "def belanja(cust_name, *items):\n",
    "    print(f\"{cust_name} berbelanja,\")\n",
    "    for i in items:\n",
    "        print(f\"beli {i}\")\n",
    "\n",
    "belanja(\"ano\", \"apel\", \"jeruk\", \"brokoli\")"
   ]
  },
  {
   "cell_type": "code",
   "execution_count": 24,
   "metadata": {},
   "outputs": [
    {
     "data": {
      "text/plain": [
       "'ano20jakarta'"
      ]
     },
     "execution_count": 24,
     "metadata": {},
     "output_type": "execute_result"
    }
   ],
   "source": [
    "# *kwargs\n",
    "def profil(**infos):\n",
    "    return infos[\"nama\"] + infos[\"umur\"] +  infos[\"asal\"]\n",
    "\n",
    "profil(nama=\"ano\", asal=\"jakarta\", umur=\"20\")"
   ]
  },
  {
   "cell_type": "code",
   "execution_count": 26,
   "metadata": {},
   "outputs": [
    {
     "data": {
      "text/plain": [
       "6"
      ]
     },
     "execution_count": 26,
     "metadata": {},
     "output_type": "execute_result"
    }
   ],
   "source": [
    "# anonymous function\n",
    "\n",
    "tambah = lambda x, y: x + y\n",
    "\n",
    "tambah(2, 4)"
   ]
  },
  {
   "cell_type": "code",
   "execution_count": 28,
   "metadata": {},
   "outputs": [
    {
     "data": {
      "text/plain": [
       "[1, 4, 9, 16]"
      ]
     },
     "execution_count": 28,
     "metadata": {},
     "output_type": "execute_result"
    }
   ],
   "source": [
    "numbers = [1, 2, 3, 4]\n",
    "squared = map(lambda x: x ** 2, numbers)\n",
    "\n",
    "list(squared)"
   ]
  }
 ],
 "metadata": {
  "kernelspec": {
   "display_name": "hck016",
   "language": "python",
   "name": "python3"
  },
  "language_info": {
   "codemirror_mode": {
    "name": "ipython",
    "version": 3
   },
   "file_extension": ".py",
   "mimetype": "text/x-python",
   "name": "python",
   "nbconvert_exporter": "python",
   "pygments_lexer": "ipython3",
   "version": "3.9.19"
  }
 },
 "nbformat": 4,
 "nbformat_minor": 2
}
